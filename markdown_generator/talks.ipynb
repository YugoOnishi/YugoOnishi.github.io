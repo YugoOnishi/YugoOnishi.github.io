{
 "cells": [
  {
   "cell_type": "markdown",
   "metadata": {
    "deletable": true,
    "editable": true
   },
   "source": [
    "# Talks markdown generator for academicpages\n",
    "\n",
    "Takes a TSV of talks with metadata and converts them for use with [academicpages.github.io](academicpages.github.io). This is an interactive Jupyter notebook ([see more info here](http://jupyter-notebook-beginner-guide.readthedocs.io/en/latest/what_is_jupyter.html)). The core python code is also in `talks.py`. Run either from the `markdown_generator` folder after replacing `talks.tsv` with one containing your data.\n",
    "\n",
    "TODO: Make this work with BibTex and other databases, rather than Stuart's non-standard TSV format and citation style."
   ]
  },
  {
   "cell_type": "code",
   "execution_count": 15,
   "metadata": {
    "collapsed": false,
    "deletable": true,
    "editable": true
   },
   "outputs": [],
   "source": [
    "import pandas as pd\n",
    "import os"
   ]
  },
  {
   "cell_type": "markdown",
   "metadata": {},
   "source": [
    "## Data format\n",
    "\n",
    "The TSV needs to have the following columns: title, type, url_slug, venue, date, location, talk_url, description, with a header at the top. Many of these fields can be blank, but the columns must be in the TSV.\n",
    "\n",
    "- Fields that cannot be blank: `title`, `url_slug`, `date`. All else can be blank. `type` defaults to \"Talk\" \n",
    "- `date` must be formatted as YYYY-MM-DD.\n",
    "- `url_slug` will be the descriptive part of the .md file and the permalink URL for the page about the paper. \n",
    "    - The .md file will be `YYYY-MM-DD-[url_slug].md` and the permalink will be `https://[yourdomain]/talks/YYYY-MM-DD-[url_slug]`\n",
    "    - The combination of `url_slug` and `date` must be unique, as it will be the basis for your filenames\n",
    "\n",
    "This is how the raw file looks (it doesn't look pretty, use a spreadsheet or other program to edit and create)."
   ]
  },
  {
   "cell_type": "code",
   "execution_count": 17,
   "metadata": {
    "collapsed": false
   },
   "outputs": [
    {
     "name": "stdout",
     "output_type": "stream",
     "text": [
      "title\ttype\turl_slug\tvenue\tdate\tlocation\ttalk_url\tdescription\n",
      "High-efficiency quantum rectenna for millimeter wave and terahertz technologies\tTalk\tAPS2023\tAPS March Meeting 2023\t2023-03-10\tLas Vegas, Nevada\thttps://meetings.aps.org/Meeting/MAR23/Session/Y43.8\tTalk at APS March Meeting 2023. A related preprint is at https://arxiv.org/abs/2211.17219\n",
      "Fundamental bound on topological gap\tTalk\tAPS2024\tAPS March Meeting 2024\t2024-03-08\tMinneapolis, Minnesota\thttps://meetings.aps.org/Meeting/MAR24/Session/Y17.12\tTalk at APS March Meeting 2024. A related publication is https://journals.aps.org/prx/abstract/10.1103/PhysRevX.14.011052\n",
      "Quantum geometry, Optical property, and Energy gap\tSeminar\tAS2024Feb\tAcademia Sinica\t2024-02-22\tTaipei, Taiwan\t\tSeminar at Academia Sinica at Taipei, Taiwan. Hosted by Prof. Hsin Lin.\n",
      "Quantum geometry, Optical property, and Energy gap\tSeminar\tNTU2024Feb\tNational Taiwan University\t2024-02-23\tTaipei, Taiwan\thttps://www.phys.ncts.ntu.edu.tw/en/act/TG3_1act/%5BNCTS-Phys-seminar%5D%C2%A0Quantum-geometry-Optical-property-and-Energy-gap-31732265\tSeminar at National Taiwan University at Taipei, Taiwan. Hosted by Prof. Chang-Tse Hsieh.\n",
      "Quantum geometry, Optical property, and Energy gap\tSeminar\tNCKU2024Feb\tNational Cheng Kung University\t2024-02-27\tTainan, Taiwan\thttps://www.phys.ncku.edu.tw/en/colloquia-detail/544/\tSeminar at Cheng Kung University at Tainan, Taiwan. Hosted by Prof. Tay-Rong Chang.\n",
      "Fundamental gap bound in insulators\tSeminar\tHarvardKids2024\tHarvard CMT Kids' Seminar\t2024-03-26\tCambridge, Massachusetts\thttp://cmt.harvard.edu/kidseminar.html\tHarvard CMT Kids’ Seminar. \n",
      "Fundamental gap bound in insulators\tSeminar\tUCLA2024Apr\tGroup meeting of Narang group at UCLA\t2024-04-03\tOnline\t\tInformal seminar at Narang group at UCLA.\n",
      "Quantum weight\tSeminar\tDelftU2024Apr\tSpeakers’ Corner Talk \t2024-04-05\tOnline\thttps://virtualscienceforum.org/speakers-corner/\tHosted by Virtual Science Forum. The recording is avaliable at https://virtualscienceforum.org/speakers-corner/\n",
      "Fundamental bound on topological gap\tSeminar\tETH2024Apr\tETH Zurich\t2024-04-10\tETH Zurich, Switzerland\thttps://www.lifescience.net/events/69335/yugo-onishi-mit-usa-fundamental-bound-on-topolocia/\tSeminar at ETH Zurich. Hosted by Prof. Ataç İmamoğlu.\n",
      "Fundamental gap bound in insulators\tTalk\tNQCM2024May\tNQCM2024\t2024-05-25\tUniversity of Tokyo, Japan\thttps://sites.google.com/view/nqcm2024/home?authuser=0\tInvited talk for a workshop at University of Tokyo. \n",
      "Fundamental gap bound in insulators\tSeminar\tFujimoto2024May\tSeminar at Fujimoto group at Osaka University\t2024-05-28\tOsaka University, Japan\thttp://www.fujimotolab.mp.es.osaka-u.ac.jp/pastseminar2024.html\tSeminar at Fujimoto group at Osaka University. \n",
      "Fundamental bound on topological gap\tTalk\tEmergent2024May\t創発現象のフロンティアworkshop at Kyoto University\t2024-05-29\tKyoto University, Japan\thttps://sites.google.com/view/emergent2024\tContributed talk at 創発現象のフロンティア workshop\n",
      "Universal bound in topological phase\tTalk\tQuantumDesigner2024Jul\tQuantum Designer Physics 2024\t2024-07-18\tSan Sebastian, Spain\thttps://qdp2024.dipc.org/speakers/program\tContributed talk at Quantum Designer Physics 2024\n"
     ]
    }
   ],
   "source": [
    "!cat talks.tsv"
   ]
  },
  {
   "cell_type": "markdown",
   "metadata": {},
   "source": [
    "## Import TSV\n",
    "\n",
    "Pandas makes this easy with the read_csv function. We are using a TSV, so we specify the separator as a tab, or `\\t`.\n",
    "\n",
    "I found it important to put this data in a tab-separated values format, because there are a lot of commas in this kind of data and comma-separated values can get messed up. However, you can modify the import statement, as pandas also has read_excel(), read_json(), and others."
   ]
  },
  {
   "cell_type": "code",
   "execution_count": 14,
   "metadata": {
    "collapsed": false,
    "deletable": true,
    "editable": true
   },
   "outputs": [
    {
     "data": {
      "text/html": [
       "<div>\n",
       "<style scoped>\n",
       "    .dataframe tbody tr th:only-of-type {\n",
       "        vertical-align: middle;\n",
       "    }\n",
       "\n",
       "    .dataframe tbody tr th {\n",
       "        vertical-align: top;\n",
       "    }\n",
       "\n",
       "    .dataframe thead th {\n",
       "        text-align: right;\n",
       "    }\n",
       "</style>\n",
       "<table border=\"1\" class=\"dataframe\">\n",
       "  <thead>\n",
       "    <tr style=\"text-align: right;\">\n",
       "      <th></th>\n",
       "      <th>title</th>\n",
       "      <th>type</th>\n",
       "      <th>url_slug</th>\n",
       "      <th>venue</th>\n",
       "      <th>date</th>\n",
       "      <th>location</th>\n",
       "      <th>talk_url</th>\n",
       "      <th>description</th>\n",
       "    </tr>\n",
       "  </thead>\n",
       "  <tbody>\n",
       "    <tr>\n",
       "      <th>0</th>\n",
       "      <td>High-efficiency quantum rectenna for millimete...</td>\n",
       "      <td>Talk</td>\n",
       "      <td>APS2023</td>\n",
       "      <td>APS March Meeting 2023</td>\n",
       "      <td>2023-03-10</td>\n",
       "      <td>Las Vegas, Nevada</td>\n",
       "      <td>https://meetings.aps.org/Meeting/MAR23/Session...</td>\n",
       "      <td>Talk at APS March Meeting 2023. A related prep...</td>\n",
       "    </tr>\n",
       "    <tr>\n",
       "      <th>1</th>\n",
       "      <td>Fundamental bound on topological gap</td>\n",
       "      <td>Talk</td>\n",
       "      <td>APS2024</td>\n",
       "      <td>APS March Meeting 2024</td>\n",
       "      <td>2024-03-08</td>\n",
       "      <td>Minneapolis, Minnesota</td>\n",
       "      <td>https://meetings.aps.org/Meeting/MAR24/Session...</td>\n",
       "      <td>Talk at APS March Meeting 2024. A related publ...</td>\n",
       "    </tr>\n",
       "    <tr>\n",
       "      <th>2</th>\n",
       "      <td>Quantum geometry, Optical property, and Energy...</td>\n",
       "      <td>Seminar</td>\n",
       "      <td>AS2024Feb</td>\n",
       "      <td>Academia Sinica</td>\n",
       "      <td>2024-02-22</td>\n",
       "      <td>Taipei, Taiwan</td>\n",
       "      <td>NaN</td>\n",
       "      <td>Seminar at Academia Sinica at Taipei, Taiwan. ...</td>\n",
       "    </tr>\n",
       "    <tr>\n",
       "      <th>3</th>\n",
       "      <td>Quantum geometry, Optical property, and Energy...</td>\n",
       "      <td>Seminar</td>\n",
       "      <td>NTU2024Feb</td>\n",
       "      <td>National Taiwan University</td>\n",
       "      <td>2024-02-23</td>\n",
       "      <td>Taipei, Taiwan</td>\n",
       "      <td>https://www.phys.ncts.ntu.edu.tw/en/act/TG3_1a...</td>\n",
       "      <td>Seminar at National Taiwan University at Taipe...</td>\n",
       "    </tr>\n",
       "    <tr>\n",
       "      <th>4</th>\n",
       "      <td>Quantum geometry, Optical property, and Energy...</td>\n",
       "      <td>Seminar</td>\n",
       "      <td>NCKU2024Feb</td>\n",
       "      <td>National Cheng Kung University</td>\n",
       "      <td>2024-02-27</td>\n",
       "      <td>Tainan, Taiwan</td>\n",
       "      <td>https://www.phys.ncku.edu.tw/en/colloquia-deta...</td>\n",
       "      <td>Seminar at Cheng Kung University at Tainan, Ta...</td>\n",
       "    </tr>\n",
       "    <tr>\n",
       "      <th>5</th>\n",
       "      <td>Fundamental gap bound in insulators</td>\n",
       "      <td>Seminar</td>\n",
       "      <td>HarvardKids2024</td>\n",
       "      <td>Harvard CMT Kids' Seminar</td>\n",
       "      <td>2024-03-26</td>\n",
       "      <td>Cambridge, Massachusetts</td>\n",
       "      <td>http://cmt.harvard.edu/kidseminar.html</td>\n",
       "      <td>Harvard CMT Kids’ Seminar.</td>\n",
       "    </tr>\n",
       "    <tr>\n",
       "      <th>6</th>\n",
       "      <td>Fundamental gap bound in insulators</td>\n",
       "      <td>Seminar</td>\n",
       "      <td>UCLA2024Apr</td>\n",
       "      <td>Group meeting of Narang group at UCLA</td>\n",
       "      <td>2024-04-03</td>\n",
       "      <td>Online</td>\n",
       "      <td>NaN</td>\n",
       "      <td>Informal seminar at Narang group at UCLA.</td>\n",
       "    </tr>\n",
       "    <tr>\n",
       "      <th>7</th>\n",
       "      <td>Quantum weight</td>\n",
       "      <td>Seminar</td>\n",
       "      <td>DelftU2024Apr</td>\n",
       "      <td>Speakers’ Corner Talk</td>\n",
       "      <td>2024-04-05</td>\n",
       "      <td>Online</td>\n",
       "      <td>https://virtualscienceforum.org/speakers-corner/</td>\n",
       "      <td>Hosted by Virtual Science Forum. The recording...</td>\n",
       "    </tr>\n",
       "    <tr>\n",
       "      <th>8</th>\n",
       "      <td>Fundamental bound on topological gap</td>\n",
       "      <td>Seminar</td>\n",
       "      <td>ETH2024Apr</td>\n",
       "      <td>ETH Zurich</td>\n",
       "      <td>2024-04-10</td>\n",
       "      <td>ETH Zurich, Switzerland</td>\n",
       "      <td>https://www.lifescience.net/events/69335/yugo-...</td>\n",
       "      <td>Seminar at ETH Zurich. Hosted by Prof. Ataç İm...</td>\n",
       "    </tr>\n",
       "    <tr>\n",
       "      <th>9</th>\n",
       "      <td>Fundamental gap bound in insulators</td>\n",
       "      <td>Talk</td>\n",
       "      <td>NQCM2024May</td>\n",
       "      <td>NQCM2024</td>\n",
       "      <td>2024-05-25</td>\n",
       "      <td>University of Tokyo, Japan</td>\n",
       "      <td>https://sites.google.com/view/nqcm2024/home?au...</td>\n",
       "      <td>Invited talk for a workshop at University of T...</td>\n",
       "    </tr>\n",
       "    <tr>\n",
       "      <th>10</th>\n",
       "      <td>Fundamental gap bound in insulators</td>\n",
       "      <td>Seminar</td>\n",
       "      <td>Fujimoto2024May</td>\n",
       "      <td>Seminar at Fujimoto group at Osaka University</td>\n",
       "      <td>2024-05-28</td>\n",
       "      <td>Osaka University, Japan</td>\n",
       "      <td>http://www.fujimotolab.mp.es.osaka-u.ac.jp/pas...</td>\n",
       "      <td>Seminar at Fujimoto group at Osaka University.</td>\n",
       "    </tr>\n",
       "    <tr>\n",
       "      <th>11</th>\n",
       "      <td>Fundamental bound on topological gap</td>\n",
       "      <td>Talk</td>\n",
       "      <td>Emergent2024May</td>\n",
       "      <td>創発現象のフロンティアworkshop at Kyoto University</td>\n",
       "      <td>2024-05-29</td>\n",
       "      <td>Kyoto University, Japan</td>\n",
       "      <td>https://sites.google.com/view/emergent2024</td>\n",
       "      <td>Contributed talk at 創発現象のフロンティア workshop</td>\n",
       "    </tr>\n",
       "    <tr>\n",
       "      <th>12</th>\n",
       "      <td>Universal bound in topological phase</td>\n",
       "      <td>Talk</td>\n",
       "      <td>QuantumDesigner2024Jul</td>\n",
       "      <td>Quantum Designer Physics 2024</td>\n",
       "      <td>2024-07-18</td>\n",
       "      <td>San Sebastian, Spain</td>\n",
       "      <td>https://qdp2024.dipc.org/speakers/program</td>\n",
       "      <td>Contributed talk at Quantum Designer Physics 2024</td>\n",
       "    </tr>\n",
       "  </tbody>\n",
       "</table>\n",
       "</div>"
      ],
      "text/plain": [
       "                                                title     type  \\\n",
       "0   High-efficiency quantum rectenna for millimete...     Talk   \n",
       "1                Fundamental bound on topological gap     Talk   \n",
       "2   Quantum geometry, Optical property, and Energy...  Seminar   \n",
       "3   Quantum geometry, Optical property, and Energy...  Seminar   \n",
       "4   Quantum geometry, Optical property, and Energy...  Seminar   \n",
       "5                 Fundamental gap bound in insulators  Seminar   \n",
       "6                 Fundamental gap bound in insulators  Seminar   \n",
       "7                                      Quantum weight  Seminar   \n",
       "8                Fundamental bound on topological gap  Seminar   \n",
       "9                 Fundamental gap bound in insulators     Talk   \n",
       "10                Fundamental gap bound in insulators  Seminar   \n",
       "11               Fundamental bound on topological gap     Talk   \n",
       "12               Universal bound in topological phase     Talk   \n",
       "\n",
       "                  url_slug                                          venue  \\\n",
       "0                  APS2023                         APS March Meeting 2023   \n",
       "1                  APS2024                         APS March Meeting 2024   \n",
       "2                AS2024Feb                                Academia Sinica   \n",
       "3               NTU2024Feb                     National Taiwan University   \n",
       "4              NCKU2024Feb                 National Cheng Kung University   \n",
       "5          HarvardKids2024                      Harvard CMT Kids' Seminar   \n",
       "6              UCLA2024Apr          Group meeting of Narang group at UCLA   \n",
       "7            DelftU2024Apr                         Speakers’ Corner Talk    \n",
       "8               ETH2024Apr                                     ETH Zurich   \n",
       "9              NQCM2024May                                       NQCM2024   \n",
       "10         Fujimoto2024May  Seminar at Fujimoto group at Osaka University   \n",
       "11         Emergent2024May        創発現象のフロンティアworkshop at Kyoto University   \n",
       "12  QuantumDesigner2024Jul                  Quantum Designer Physics 2024   \n",
       "\n",
       "          date                    location  \\\n",
       "0   2023-03-10           Las Vegas, Nevada   \n",
       "1   2024-03-08      Minneapolis, Minnesota   \n",
       "2   2024-02-22              Taipei, Taiwan   \n",
       "3   2024-02-23              Taipei, Taiwan   \n",
       "4   2024-02-27              Tainan, Taiwan   \n",
       "5   2024-03-26    Cambridge, Massachusetts   \n",
       "6   2024-04-03                      Online   \n",
       "7   2024-04-05                      Online   \n",
       "8   2024-04-10     ETH Zurich, Switzerland   \n",
       "9   2024-05-25  University of Tokyo, Japan   \n",
       "10  2024-05-28     Osaka University, Japan   \n",
       "11  2024-05-29     Kyoto University, Japan   \n",
       "12  2024-07-18        San Sebastian, Spain   \n",
       "\n",
       "                                             talk_url  \\\n",
       "0   https://meetings.aps.org/Meeting/MAR23/Session...   \n",
       "1   https://meetings.aps.org/Meeting/MAR24/Session...   \n",
       "2                                                 NaN   \n",
       "3   https://www.phys.ncts.ntu.edu.tw/en/act/TG3_1a...   \n",
       "4   https://www.phys.ncku.edu.tw/en/colloquia-deta...   \n",
       "5              http://cmt.harvard.edu/kidseminar.html   \n",
       "6                                                 NaN   \n",
       "7    https://virtualscienceforum.org/speakers-corner/   \n",
       "8   https://www.lifescience.net/events/69335/yugo-...   \n",
       "9   https://sites.google.com/view/nqcm2024/home?au...   \n",
       "10  http://www.fujimotolab.mp.es.osaka-u.ac.jp/pas...   \n",
       "11         https://sites.google.com/view/emergent2024   \n",
       "12          https://qdp2024.dipc.org/speakers/program   \n",
       "\n",
       "                                          description  \n",
       "0   Talk at APS March Meeting 2023. A related prep...  \n",
       "1   Talk at APS March Meeting 2024. A related publ...  \n",
       "2   Seminar at Academia Sinica at Taipei, Taiwan. ...  \n",
       "3   Seminar at National Taiwan University at Taipe...  \n",
       "4   Seminar at Cheng Kung University at Tainan, Ta...  \n",
       "5                         Harvard CMT Kids’ Seminar.   \n",
       "6           Informal seminar at Narang group at UCLA.  \n",
       "7   Hosted by Virtual Science Forum. The recording...  \n",
       "8   Seminar at ETH Zurich. Hosted by Prof. Ataç İm...  \n",
       "9   Invited talk for a workshop at University of T...  \n",
       "10    Seminar at Fujimoto group at Osaka University.   \n",
       "11           Contributed talk at 創発現象のフロンティア workshop  \n",
       "12  Contributed talk at Quantum Designer Physics 2024  "
      ]
     },
     "execution_count": 14,
     "metadata": {},
     "output_type": "execute_result"
    }
   ],
   "source": [
    "talks = pd.read_csv(\"talks.tsv\", sep=\"\\t\", header=0)\n",
    "talks"
   ]
  },
  {
   "cell_type": "markdown",
   "metadata": {},
   "source": [
    "## Escape special characters\n",
    "\n",
    "YAML is very picky about how it takes a valid string, so we are replacing single and double quotes (and ampersands) with their HTML encoded equivilents. This makes them look not so readable in raw format, but they are parsed and rendered nicely."
   ]
  },
  {
   "cell_type": "code",
   "execution_count": 18,
   "metadata": {
    "collapsed": false,
    "deletable": true,
    "editable": true
   },
   "outputs": [],
   "source": [
    "html_escape_table = {\n",
    "    \"&\": \"&amp;\",\n",
    "    '\"': \"&quot;\",\n",
    "    \"'\": \"&apos;\"\n",
    "    }\n",
    "\n",
    "def html_escape(text):\n",
    "    if type(text) is str:\n",
    "        return \"\".join(html_escape_table.get(c,c) for c in text)\n",
    "    else:\n",
    "        return \"False\""
   ]
  },
  {
   "cell_type": "markdown",
   "metadata": {},
   "source": [
    "## Creating the markdown files\n",
    "\n",
    "This is where the heavy lifting is done. This loops through all the rows in the TSV dataframe, then starts to concatentate a big string (```md```) that contains the markdown for each type. It does the YAML metadata first, then does the description for the individual page."
   ]
  },
  {
   "cell_type": "code",
   "execution_count": 16,
   "metadata": {
    "collapsed": false,
    "deletable": true,
    "editable": true
   },
   "outputs": [],
   "source": [
    "loc_dict = {}\n",
    "\n",
    "for row, item in talks.iterrows():\n",
    "    \n",
    "    md_filename = str(item.date) + \"-\" + item.url_slug + \".md\"\n",
    "    html_filename = str(item.date) + \"-\" + item.url_slug \n",
    "    year = item.date[:4]\n",
    "    \n",
    "    md = \"---\\ntitle: \\\"\"   + item.title + '\"\\n'\n",
    "    md += \"collection: talks\" + \"\\n\"\n",
    "    \n",
    "    if len(str(item.type)) > 3:\n",
    "        md += 'type: \"' + item.type + '\"\\n'\n",
    "    else:\n",
    "        md += 'type: \"Talk\"\\n'\n",
    "    \n",
    "    md += \"permalink: /talks/\" + html_filename + \"\\n\"\n",
    "    \n",
    "    if len(str(item.venue)) > 3:\n",
    "        md += 'venue: \"' + item.venue + '\"\\n'\n",
    "        \n",
    "    if len(str(item.location)) > 3:\n",
    "        md += \"date: \" + str(item.date) + \"\\n\"\n",
    "    \n",
    "    if len(str(item.location)) > 3:\n",
    "        md += 'location: \"' + str(item.location) + '\"\\n'\n",
    "           \n",
    "    md += \"---\\n\"\n",
    "    \n",
    "    \n",
    "    if len(str(item.talk_url)) > 3:\n",
    "        md += \"\\n[More information here](\" + item.talk_url + \")\\n\" \n",
    "        \n",
    "    \n",
    "    if len(str(item.description)) > 3:\n",
    "        md += \"\\n\" + html_escape(item.description) + \"\\n\"\n",
    "        \n",
    "        \n",
    "    md_filename = os.path.basename(md_filename)\n",
    "    #print(md)\n",
    "    \n",
    "    with open(\"../_talks/\" + md_filename, 'w') as f:\n",
    "        f.write(md)"
   ]
  },
  {
   "cell_type": "markdown",
   "metadata": {},
   "source": [
    "These files are in the talks directory, one directory below where we're working from."
   ]
  },
  {
   "cell_type": "code",
   "execution_count": 20,
   "metadata": {
    "collapsed": false,
    "deletable": true,
    "editable": true
   },
   "outputs": [
    {
     "name": "stdout",
     "output_type": "stream",
     "text": [
      "2023-03-10-APS2023.md\t       2024-04-05-DelftU2024Apr.md\n",
      "2024-02-22-AS2024Feb.md        2024-04-10-ETH2024Apr.md\n",
      "2024-02-23-NTU2024Feb.md       2024-05-25-NQCM2024May.md\n",
      "2024-02-27-NCKU2024Feb.md      2024-05-28-Fujimoto2024May.md\n",
      "2024-03-08-APS2024.md\t       2024-05-29-Emergent2024May.md\n",
      "2024-03-26-HarvardKids2024.md  2024-07-18-QuantumDesigner2024Jul.md\n",
      "2024-04-03-UCLA2024Apr.md\n"
     ]
    }
   ],
   "source": [
    "!ls ../_talks"
   ]
  },
  {
   "cell_type": "code",
   "execution_count": 19,
   "metadata": {
    "collapsed": false,
    "deletable": true,
    "editable": true
   },
   "outputs": [
    {
     "name": "stdout",
     "output_type": "stream",
     "text": [
      "---\n",
      "title: \"High-efficiency quantum rectenna for millimeter wave and terahertz technologies\"\n",
      "collection: talks\n",
      "type: \"Talk\"\n",
      "permalink: /talks/2023-03-10-APS2023\n",
      "venue: \"APS March Meeting 2023\"\n",
      "date: 2023-03-10\n",
      "location: \"Las Vegas, Nevada\"\n",
      "---\n",
      "\n",
      "[More information here](https://meetings.aps.org/Meeting/MAR23/Session/Y43.8)\n",
      "\n",
      "Talk at APS March Meeting 2023. A related preprint is at https://arxiv.org/abs/2211.17219\n"
     ]
    }
   ],
   "source": [
    "!cat ../_talks/2023-03-10-APS2023.md"
   ]
  },
  {
   "cell_type": "code",
   "execution_count": null,
   "metadata": {},
   "outputs": [],
   "source": []
  }
 ],
 "metadata": {
  "kernelspec": {
   "display_name": "Python 3",
   "language": "python",
   "name": "python3"
  },
  "language_info": {
   "codemirror_mode": {
    "name": "ipython",
    "version": 3
   },
   "file_extension": ".py",
   "mimetype": "text/x-python",
   "name": "python",
   "nbconvert_exporter": "python",
   "pygments_lexer": "ipython3",
   "version": "3.12.3"
  }
 },
 "nbformat": 4,
 "nbformat_minor": 0
}
